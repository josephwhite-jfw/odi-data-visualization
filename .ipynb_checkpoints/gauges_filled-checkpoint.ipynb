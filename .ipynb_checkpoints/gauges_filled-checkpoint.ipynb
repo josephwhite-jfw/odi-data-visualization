{
 "cells": [
  {
   "cell_type": "code",
   "execution_count": 5,
   "id": "f02e76f9-b2ec-44f0-aba4-8e9dc966a2e0",
   "metadata": {},
   "outputs": [],
   "source": [
    "import pathlib, re, numpy as np, pandas as pd, plotly.graph_objects as go"
   ]
  },
  {
   "cell_type": "code",
   "execution_count": 10,
   "id": "05e5fc70-7d89-4599-b0ae-4020df187be4",
   "metadata": {},
   "outputs": [],
   "source": [
    "# --- 1.  Explicit repo root ----------------------------------------------\n",
    "ROOT_DIR = pathlib.Path(r\"C:\\Users\\Owner\\OneDrive\\Documents\\GitHub\\odi-data-visualization\")\n",
    "\n",
    "DATA_DIR  = ROOT_DIR / \"data\"\n",
    "STYLE_NAME = \"gauges_filled\"\n",
    "PLOTS_DIR  = ROOT_DIR / \"plots\" / STYLE_NAME\n",
    "\n",
    "TEST_MODE  = True\n",
    "TEST_DEPTS = [\"Finance and Management\", \"Public Service\"]   # ignored if TEST_MODE=False\n",
    "\n",
    "# make sure output dir exists\n",
    "PLOTS_DIR.mkdir(parents=True, exist_ok=True)"
   ]
  },
  {
   "cell_type": "code",
   "execution_count": 7,
   "id": "c0cdaf60-1e82-4c3b-a409-9d0a32759105",
   "metadata": {},
   "outputs": [],
   "source": [
    "# ── 2.  Band colours & helper ─────────────────────────────────────────────\n",
    "BANDS = [\n",
    "    (1.00, 3.29, \"#e53935\"),   # red\n",
    "    (3.30, 3.49, \"#fb8c00\"),   # orange\n",
    "    (3.50, 3.79, \"#fdd835\"),   # yellow\n",
    "    (3.80, 4.00, \"#43a047\"),   # green\n",
    "]\n",
    "def band_color(v, default=\"#999999\"):\n",
    "    for lo, hi, col in BANDS:\n",
    "        if lo <= v <= hi:\n",
    "            return col\n",
    "    return default"
   ]
  },
  {
   "cell_type": "code",
   "execution_count": 8,
   "id": "93940efd-341a-4769-8408-ba26b89b7aed",
   "metadata": {},
   "outputs": [],
   "source": [
    "# ── 3.  Extract first float from any cell ─────────────────────────────────\n",
    "NUM_RE = re.compile(r\"[-+]?\\d*\\.?\\d+\")\n",
    "to_num = lambda s: float(NUM_RE.search(str(s)).group()) if NUM_RE.search(str(s)) else np.nan"
   ]
  },
  {
   "cell_type": "code",
   "execution_count": 11,
   "id": "bdceb1dd-4bff-4250-a3a0-473ce8f09743",
   "metadata": {},
   "outputs": [],
   "source": [
    "# ── 4.  Load survey data → long format ────────────────────────────────────\n",
    "def load_long():\n",
    "    csvs = list((DATA_DIR).glob(\"*.csv\"))\n",
    "    if not csvs:\n",
    "        raise FileNotFoundError(f\"No CSVs in {DATA_DIR}\")\n",
    "\n",
    "    def tidy(p):\n",
    "        df = pd.read_csv(p)\n",
    "        if df.columns[0] != \"Outcome\":\n",
    "            df = df.rename(columns={df.columns[0]:\"Outcome\"})\n",
    "        return df[df[\"Outcome\"].str.lower().str.strip() != \"outcome\"]\n",
    "\n",
    "    wide = pd.concat([tidy(p) for p in csvs], ignore_index=True)\n",
    "    wide[\"Outcome\"] = wide[\"Outcome\"].str.strip()\n",
    "    wide.columns    = wide.columns.str.strip()\n",
    "    order = list(dict.fromkeys(wide[\"Outcome\"]))\n",
    "\n",
    "    long = (wide\n",
    "            .melt(id_vars=\"Outcome\", var_name=\"Department\", value_name=\"raw\")\n",
    "            .assign(Score=lambda d: d[\"raw\"].apply(to_num))\n",
    "            .dropna(subset=[\"Score\"])\n",
    "            .assign(Outcome=lambda d: pd.Categorical(d[\"Outcome\"],\n",
    "                                                     categories=order,\n",
    "                                                     ordered=True)))\n",
    "    return long[long[\"Score\"].between(1.0, 4.0)]\n",
    "\n",
    "long = load_long()"
   ]
  },
  {
   "cell_type": "code",
   "execution_count": 12,
   "id": "d832573f-060f-45df-8dd8-b2d7e9b6a5b6",
   "metadata": {},
   "outputs": [],
   "source": [
    "# ── 5.  Build filled-arc gauge ────────────────────────────────────────────\n",
    "def build_gauge(score, title):\n",
    "    fig = go.Figure(go.Indicator(\n",
    "        mode   =\"gauge+number\",\n",
    "        value  = score,\n",
    "        title  = {\"text\": title, \"font\": {\"size\":18, \"color\":\"#1f3d5a\"}},\n",
    "        number = {\"font\": {\"size\":38, \"color\":\"#1f3d5a\"}},\n",
    "        gauge  = {\n",
    "            \"axis\": {\"range\":[1,4],\n",
    "                     \"tickmode\":\"array\",\n",
    "                     \"tickvals\":np.linspace(1,4,7),\n",
    "                     \"tickfont\":{\"size\":12}},\n",
    "            \"bar\":  {\"color\": band_color(score), \"thickness\":0.45},\n",
    "            \"bgcolor\":\"#FFFFFF\",\n",
    "            \"borderwidth\":1,\n",
    "            \"bordercolor\":\"#444\"\n",
    "        }\n",
    "    ))\n",
    "    fig.update_layout(height=450, width=450,\n",
    "                      margin=dict(t=60,b=20,l=20,r=20))\n",
    "    return fig"
   ]
  },
  {
   "cell_type": "code",
   "execution_count": 13,
   "id": "431ef6a4-6100-4357-97c1-6c51929aee99",
   "metadata": {},
   "outputs": [],
   "source": [
    "# ── 6.  Save gauge into plots/<style>/<dept>/ ─────────────────────────────\n",
    "def save_gauge(dept, outcome, score):\n",
    "    dept_dir = PLOTS_DIR / dept.replace(\"/\",\"-\")\n",
    "    dept_dir.mkdir(parents=True, exist_ok=True)\n",
    "\n",
    "    fig  = build_gauge(score, outcome)\n",
    "    base = outcome.replace(\"/\", \"-\")\n",
    "    fig.write_html(dept_dir / f\"{base}.html\", include_plotlyjs=\"cdn\")\n",
    "    fig.write_image(dept_dir / f\"{base}.png\", scale=2)\n",
    "    print(\"   •\", dept, \"--\", base + \".png\")"
   ]
  },
  {
   "cell_type": "code",
   "execution_count": 14,
   "id": "11085faa-36ad-493c-ae25-dfe06032930a",
   "metadata": {},
   "outputs": [
    {
     "name": "stdout",
     "output_type": "stream",
     "text": [
      "⚠️  No data for Finance & Management\n",
      "Generating Public Service\n",
      "   • Public Service -- Scale Score.png\n",
      "   • Public Service -- I am recognized for my performance..png\n",
      "   • Public Service -- I am rewarded for my performance..png\n",
      "   • Public Service -- My views and participation are valued..png\n",
      "   • Public Service -- Scale Score.png\n",
      "   • Public Service -- Leadership lets us know what City of Columbus is trying to accomplish..png\n",
      "   • Public Service -- The environment between leadership and staff is generally one of openness, trust, and equality..png\n",
      "   • Public Service -- The leaders at City of Columbus are positive role models..png\n",
      "   • Public Service -- Scale Score.png\n",
      "   • Public Service -- City of Columbus' policies and procedures, including practices and work rules, are helpful in accomplishing tasks in my department..png\n",
      "   • Public Service -- Scale Score.png\n",
      "   • Public Service -- Within my department, employees with similar work functions share information about their work and practices..png\n",
      "   • Public Service -- Employees in my department share responsibility for the success or failure of our services..png\n",
      "   • Public Service -- Employees in my department take pride in their work..png\n",
      "   • Public Service -- The distribution of work among the employees in my department is well balanced..png\n"
     ]
    },
    {
     "ename": "OSError",
     "evalue": "[Errno 22] Invalid argument: 'C:\\\\Users\\\\Owner\\\\OneDrive\\\\Documents\\\\GitHub\\\\odi-data-visualization\\\\plots\\\\gauges_filled\\\\Public Service\\\\[Satisfaction] The team spirit in your department?.html'",
     "output_type": "error",
     "traceback": [
      "\u001b[1;31m---------------------------------------------------------------------------\u001b[0m",
      "\u001b[1;31mOSError\u001b[0m                                   Traceback (most recent call last)",
      "Cell \u001b[1;32mIn[14], line 10\u001b[0m\n\u001b[0;32m      8\u001b[0m     \u001b[38;5;28mprint\u001b[39m(\u001b[38;5;124m\"\u001b[39m\u001b[38;5;124mGenerating\u001b[39m\u001b[38;5;124m\"\u001b[39m, dept)\n\u001b[0;32m      9\u001b[0m     \u001b[38;5;28;01mfor\u001b[39;00m _, row \u001b[38;5;129;01min\u001b[39;00m sub\u001b[38;5;241m.\u001b[39miterrows():\n\u001b[1;32m---> 10\u001b[0m         save_gauge(dept, row[\u001b[38;5;124m\"\u001b[39m\u001b[38;5;124mOutcome\u001b[39m\u001b[38;5;124m\"\u001b[39m], row[\u001b[38;5;124m\"\u001b[39m\u001b[38;5;124mScore\u001b[39m\u001b[38;5;124m\"\u001b[39m])\n\u001b[0;32m     12\u001b[0m \u001b[38;5;28mprint\u001b[39m(\u001b[38;5;124m\"\u001b[39m\u001b[38;5;130;01m\\n\u001b[39;00m\u001b[38;5;124mDone.  Plots saved under\u001b[39m\u001b[38;5;124m\"\u001b[39m, PLOTS_DIR)\n",
      "Cell \u001b[1;32mIn[13], line 8\u001b[0m, in \u001b[0;36msave_gauge\u001b[1;34m(dept, outcome, score)\u001b[0m\n\u001b[0;32m      6\u001b[0m fig  \u001b[38;5;241m=\u001b[39m build_gauge(score, outcome)\n\u001b[0;32m      7\u001b[0m base \u001b[38;5;241m=\u001b[39m outcome\u001b[38;5;241m.\u001b[39mreplace(\u001b[38;5;124m\"\u001b[39m\u001b[38;5;124m/\u001b[39m\u001b[38;5;124m\"\u001b[39m, \u001b[38;5;124m\"\u001b[39m\u001b[38;5;124m-\u001b[39m\u001b[38;5;124m\"\u001b[39m)\n\u001b[1;32m----> 8\u001b[0m fig\u001b[38;5;241m.\u001b[39mwrite_html(dept_dir \u001b[38;5;241m/\u001b[39m \u001b[38;5;124mf\u001b[39m\u001b[38;5;124m\"\u001b[39m\u001b[38;5;132;01m{\u001b[39;00mbase\u001b[38;5;132;01m}\u001b[39;00m\u001b[38;5;124m.html\u001b[39m\u001b[38;5;124m\"\u001b[39m, include_plotlyjs\u001b[38;5;241m=\u001b[39m\u001b[38;5;124m\"\u001b[39m\u001b[38;5;124mcdn\u001b[39m\u001b[38;5;124m\"\u001b[39m)\n\u001b[0;32m      9\u001b[0m fig\u001b[38;5;241m.\u001b[39mwrite_image(dept_dir \u001b[38;5;241m/\u001b[39m \u001b[38;5;124mf\u001b[39m\u001b[38;5;124m\"\u001b[39m\u001b[38;5;132;01m{\u001b[39;00mbase\u001b[38;5;132;01m}\u001b[39;00m\u001b[38;5;124m.png\u001b[39m\u001b[38;5;124m\"\u001b[39m, scale\u001b[38;5;241m=\u001b[39m\u001b[38;5;241m2\u001b[39m)\n\u001b[0;32m     10\u001b[0m \u001b[38;5;28mprint\u001b[39m(\u001b[38;5;124m\"\u001b[39m\u001b[38;5;124m   •\u001b[39m\u001b[38;5;124m\"\u001b[39m, dept, \u001b[38;5;124m\"\u001b[39m\u001b[38;5;124m--\u001b[39m\u001b[38;5;124m\"\u001b[39m, base \u001b[38;5;241m+\u001b[39m \u001b[38;5;124m\"\u001b[39m\u001b[38;5;124m.png\u001b[39m\u001b[38;5;124m\"\u001b[39m)\n",
      "File \u001b[1;32m~\\anaconda3\\Lib\\site-packages\\plotly\\basedatatypes.py:3712\u001b[0m, in \u001b[0;36mBaseFigure.write_html\u001b[1;34m(self, *args, **kwargs)\u001b[0m\n\u001b[0;32m   3609\u001b[0m \u001b[38;5;250m\u001b[39m\u001b[38;5;124;03m\"\"\"\u001b[39;00m\n\u001b[0;32m   3610\u001b[0m \u001b[38;5;124;03mWrite a figure to an HTML file representation\u001b[39;00m\n\u001b[0;32m   3611\u001b[0m \n\u001b[1;32m   (...)\u001b[0m\n\u001b[0;32m   3708\u001b[0m \u001b[38;5;124;03mNone\u001b[39;00m\n\u001b[0;32m   3709\u001b[0m \u001b[38;5;124;03m\"\"\"\u001b[39;00m\n\u001b[0;32m   3710\u001b[0m \u001b[38;5;28;01mimport\u001b[39;00m \u001b[38;5;21;01mplotly\u001b[39;00m\u001b[38;5;21;01m.\u001b[39;00m\u001b[38;5;21;01mio\u001b[39;00m \u001b[38;5;28;01mas\u001b[39;00m \u001b[38;5;21;01mpio\u001b[39;00m\n\u001b[1;32m-> 3712\u001b[0m \u001b[38;5;28;01mreturn\u001b[39;00m pio\u001b[38;5;241m.\u001b[39mwrite_html(\u001b[38;5;28mself\u001b[39m, \u001b[38;5;241m*\u001b[39margs, \u001b[38;5;241m*\u001b[39m\u001b[38;5;241m*\u001b[39mkwargs)\n",
      "File \u001b[1;32m~\\anaconda3\\Lib\\site-packages\\plotly\\io\\_html.py:503\u001b[0m, in \u001b[0;36mwrite_html\u001b[1;34m(fig, file, config, auto_play, include_plotlyjs, include_mathjax, post_script, full_html, animation_opts, validate, default_width, default_height, auto_open, div_id)\u001b[0m\n\u001b[0;32m    500\u001b[0m \u001b[38;5;66;03m# Write HTML string\u001b[39;00m\n\u001b[0;32m    501\u001b[0m \u001b[38;5;28;01mif\u001b[39;00m path \u001b[38;5;129;01mis\u001b[39;00m \u001b[38;5;129;01mnot\u001b[39;00m \u001b[38;5;28;01mNone\u001b[39;00m:\n\u001b[0;32m    502\u001b[0m     \u001b[38;5;66;03m# To use a different file encoding, pass a file descriptor\u001b[39;00m\n\u001b[1;32m--> 503\u001b[0m     path\u001b[38;5;241m.\u001b[39mwrite_text(html_str, \u001b[38;5;124m\"\u001b[39m\u001b[38;5;124mutf-8\u001b[39m\u001b[38;5;124m\"\u001b[39m)\n\u001b[0;32m    504\u001b[0m \u001b[38;5;28;01melse\u001b[39;00m:\n\u001b[0;32m    505\u001b[0m     file\u001b[38;5;241m.\u001b[39mwrite(html_str)\n",
      "File \u001b[1;32m~\\anaconda3\\Lib\\pathlib.py:1047\u001b[0m, in \u001b[0;36mPath.write_text\u001b[1;34m(self, data, encoding, errors, newline)\u001b[0m\n\u001b[0;32m   1044\u001b[0m     \u001b[38;5;28;01mraise\u001b[39;00m \u001b[38;5;167;01mTypeError\u001b[39;00m(\u001b[38;5;124m'\u001b[39m\u001b[38;5;124mdata must be str, not \u001b[39m\u001b[38;5;132;01m%s\u001b[39;00m\u001b[38;5;124m'\u001b[39m \u001b[38;5;241m%\u001b[39m\n\u001b[0;32m   1045\u001b[0m                     data\u001b[38;5;241m.\u001b[39m\u001b[38;5;18m__class__\u001b[39m\u001b[38;5;241m.\u001b[39m\u001b[38;5;18m__name__\u001b[39m)\n\u001b[0;32m   1046\u001b[0m encoding \u001b[38;5;241m=\u001b[39m io\u001b[38;5;241m.\u001b[39mtext_encoding(encoding)\n\u001b[1;32m-> 1047\u001b[0m \u001b[38;5;28;01mwith\u001b[39;00m \u001b[38;5;28mself\u001b[39m\u001b[38;5;241m.\u001b[39mopen(mode\u001b[38;5;241m=\u001b[39m\u001b[38;5;124m'\u001b[39m\u001b[38;5;124mw\u001b[39m\u001b[38;5;124m'\u001b[39m, encoding\u001b[38;5;241m=\u001b[39mencoding, errors\u001b[38;5;241m=\u001b[39merrors, newline\u001b[38;5;241m=\u001b[39mnewline) \u001b[38;5;28;01mas\u001b[39;00m f:\n\u001b[0;32m   1048\u001b[0m     \u001b[38;5;28;01mreturn\u001b[39;00m f\u001b[38;5;241m.\u001b[39mwrite(data)\n",
      "File \u001b[1;32m~\\anaconda3\\Lib\\pathlib.py:1013\u001b[0m, in \u001b[0;36mPath.open\u001b[1;34m(self, mode, buffering, encoding, errors, newline)\u001b[0m\n\u001b[0;32m   1011\u001b[0m \u001b[38;5;28;01mif\u001b[39;00m \u001b[38;5;124m\"\u001b[39m\u001b[38;5;124mb\u001b[39m\u001b[38;5;124m\"\u001b[39m \u001b[38;5;129;01mnot\u001b[39;00m \u001b[38;5;129;01min\u001b[39;00m mode:\n\u001b[0;32m   1012\u001b[0m     encoding \u001b[38;5;241m=\u001b[39m io\u001b[38;5;241m.\u001b[39mtext_encoding(encoding)\n\u001b[1;32m-> 1013\u001b[0m \u001b[38;5;28;01mreturn\u001b[39;00m io\u001b[38;5;241m.\u001b[39mopen(\u001b[38;5;28mself\u001b[39m, mode, buffering, encoding, errors, newline)\n",
      "\u001b[1;31mOSError\u001b[0m: [Errno 22] Invalid argument: 'C:\\\\Users\\\\Owner\\\\OneDrive\\\\Documents\\\\GitHub\\\\odi-data-visualization\\\\plots\\\\gauges_filled\\\\Public Service\\\\[Satisfaction] The team spirit in your department?.html'"
     ]
    }
   ],
   "source": [
    "# ── 7.  Generate gauges ───────────────────────────────────────────────────\n",
    "targets = TEST_DEPTS if TEST_MODE else long[\"Department\"].unique()\n",
    "\n",
    "for dept in targets:\n",
    "    sub = long[long[\"Department\"].str.casefold() == dept.casefold()]\n",
    "    if sub.empty:\n",
    "        print(f\"⚠️  No data for {dept}\"); continue\n",
    "    print(\"Generating\", dept)\n",
    "    for _, row in sub.iterrows():\n",
    "        save_gauge(dept, row[\"Outcome\"], row[\"Score\"])\n",
    "\n",
    "print(\"\\nDone.  Plots saved under\", PLOTS_DIR)"
   ]
  }
 ],
 "metadata": {
  "kernelspec": {
   "display_name": "Python [conda env:base] *",
   "language": "python",
   "name": "conda-base-py"
  },
  "language_info": {
   "codemirror_mode": {
    "name": "ipython",
    "version": 3
   },
   "file_extension": ".py",
   "mimetype": "text/x-python",
   "name": "python",
   "nbconvert_exporter": "python",
   "pygments_lexer": "ipython3",
   "version": "3.12.7"
  }
 },
 "nbformat": 4,
 "nbformat_minor": 5
}
